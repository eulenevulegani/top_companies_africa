{
 "cells": [
  {
   "cell_type": "code",
   "execution_count": 19,
   "id": "a1d1ccee-cbd1-4ec1-96ee-93bb473d22b9",
   "metadata": {},
   "outputs": [],
   "source": [
    "#import required libraries\n",
    "from bs4 import BeautifulSoup\n",
    "import requests\n",
    "import pandas as pd"
   ]
  },
  {
   "cell_type": "code",
   "execution_count": 21,
   "id": "a5f202b7-3c17-4da4-bc8b-34dce8c11155",
   "metadata": {},
   "outputs": [
    {
     "name": "stdout",
     "output_type": "stream",
     "text": [
      "  Rank            Company            Industry Revenue(US$ billions)  \\\n",
      "0    1          Sonatrach         Oil and gas                30.013   \n",
      "1    2              Eskom    Electric utility                13.941   \n",
      "2    3              Sasol           Chemistry                12.989   \n",
      "3    4          MTN Group  Telecommunications                12.238   \n",
      "4    5  Shoprite Holdings              Retail                10.802   \n",
      "\n",
      "   Headquarters  \n",
      "0       Algeria  \n",
      "1  South Africa  \n",
      "2  South Africa  \n",
      "3  South Africa  \n",
      "4  South Africa  \n"
     ]
    }
   ],
   "source": [
    "#Fetch the page\n",
    "url = \"https://en.wikipedia.org/wiki/List_of_largest_companies_in_Africa_by_revenue\"\n",
    "response = requests.get(url)\n",
    "\n",
    "#Check if the request was successful\n",
    "if response.status_code == 200:\n",
    "    #Parse the page content\n",
    "    soup = BeautifulSoup(response.content, 'html.parser')\n",
    "        \n",
    "    #Find the table\n",
    "    table = soup.find('table', {'class': 'wikitable sortable'})\n",
    "        \n",
    "    #Extract headers\n",
    "    headers = [header.text.strip() for header in table.find_all('th')]\n",
    "        \n",
    "    #Extract data rows\n",
    "    rows = table.find_all('tr')\n",
    "    data = []\n",
    "    for row in rows[1:]:  # Skip the header\n",
    "        cells = row.find_all('td')\n",
    "        if len(cells) > 0:\n",
    "            data.append([cell.text.strip() for cell in cells])\n",
    "        \n",
    "    #Convert to DataFrame\n",
    "    df = pd.DataFrame(data, columns=headers)\n",
    "    print(df.head())  # Print first 5 rows\n",
    "    #Save to CSV file\n",
    "    df.to_csv('largest_companies_in_africa.csv', index=False)\n",
    "else:\n",
    "    print(f\"Failed to retrieve the page\")\n",
    "      "
   ]
  }
 ],
 "metadata": {
  "kernelspec": {
   "display_name": "anaconda-2024.02-py310",
   "language": "python",
   "name": "conda-env-anaconda-2024.02-py310-py"
  },
  "language_info": {
   "codemirror_mode": {
    "name": "ipython",
    "version": 3
   },
   "file_extension": ".py",
   "mimetype": "text/x-python",
   "name": "python",
   "nbconvert_exporter": "python",
   "pygments_lexer": "ipython3",
   "version": "3.10.14"
  }
 },
 "nbformat": 4,
 "nbformat_minor": 5
}
